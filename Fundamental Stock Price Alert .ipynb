{
 "cells": [
  {
   "cell_type": "code",
   "execution_count": 1,
   "id": "93d29c1a",
   "metadata": {},
   "outputs": [],
   "source": [
    "# Pulling Data \n",
    "import pandas as pd \n",
    "import matplotlib.pyplot as plt \n",
    "import time\n",
    "import yfinance as yf\n",
    "\n",
    "# Automating Emails\n",
    "import smtplib \n",
    "import ssl\n",
    "from email.message import EmailMessage"
   ]
  },
  {
   "cell_type": "code",
   "execution_count": 3,
   "id": "c2fd5462",
   "metadata": {},
   "outputs": [
    {
     "name": "stdout",
     "output_type": "stream",
     "text": [
      "Ticker Symbol: AAPL\n"
     ]
    }
   ],
   "source": [
    "ticker = input('Ticker Symbol: ')"
   ]
  },
  {
   "cell_type": "code",
   "execution_count": 5,
   "id": "5f033905",
   "metadata": {
    "scrolled": true
   },
   "outputs": [
    {
     "name": "stdout",
     "output_type": "stream",
     "text": [
      "Target Sell Price: 130\n"
     ]
    }
   ],
   "source": [
    "target_sell_price = int(input('Target Sell Price: '))"
   ]
  },
  {
   "cell_type": "code",
   "execution_count": 6,
   "id": "f8140fbf",
   "metadata": {},
   "outputs": [
    {
     "name": "stdout",
     "output_type": "stream",
     "text": [
      "126.04000091552734\n"
     ]
    }
   ],
   "source": [
    "def get_current_price(symbol):\n",
    "    ticker = yf.Ticker(symbol)\n",
    "    todays_data = ticker.history(period='1min')\n",
    "    return todays_data['Close'][0]\n",
    "\n",
    "print(get_current_price(ticker))"
   ]
  },
  {
   "cell_type": "code",
   "execution_count": null,
   "id": "b313924f",
   "metadata": {},
   "outputs": [],
   "source": [
    "if get_current_price(ticker) > target_sell_price:\n",
    "    \n",
    "    email_sender = 'sourish10das@gmail.com'\n",
    "    password = input('Password to Email Sender: ')\n",
    "    email_receiver = input('Recipient Email: ')\n",
    "\n",
    "    # Set the subject and body of the email\n",
    "    subject = input('Subject: ')\n",
    "    body = input(\"\"\"Body: \"\"\")\n",
    "\n",
    "    em = EmailMessage()\n",
    "    em['From'] = email_sender\n",
    "    em['To'] = email_receiver\n",
    "    em['Subject'] = subject\n",
    "    em.set_content(body)\n",
    "\n",
    "    # Add SSL (layer of security)\n",
    "    context = ssl.create_default_context()\n",
    "\n",
    "    # Log in and send the email\n",
    "    with smtplib.SMTP_SSL('smtp.gmail.com', 465, context = context) as smtp:\n",
    "        smtp.login(email_sender, password)\n",
    "        smtp.sendmail(email_sender, email_receiver, em.as_string())"
   ]
  }
 ],
 "metadata": {
  "kernelspec": {
   "display_name": "Python 3",
   "language": "python",
   "name": "python3"
  },
  "language_info": {
   "codemirror_mode": {
    "name": "ipython",
    "version": 3
   },
   "file_extension": ".py",
   "mimetype": "text/x-python",
   "name": "python",
   "nbconvert_exporter": "python",
   "pygments_lexer": "ipython3",
   "version": "3.8.9 (default, Apr 13 2022, 08:48:06) \n[Clang 13.1.6 (clang-1316.0.21.2.5)]"
  },
  "vscode": {
   "interpreter": {
    "hash": "31f2aee4e71d21fbe5cf8b01ff0e069b9275f58929596ceb00d14d90e3e16cd6"
   }
  }
 },
 "nbformat": 4,
 "nbformat_minor": 5
}
